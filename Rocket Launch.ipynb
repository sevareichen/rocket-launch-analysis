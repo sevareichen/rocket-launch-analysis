{
 "cells": [
  {
   "cell_type": "markdown",
   "id": "433dff9a-ce7f-4b2f-887d-4878e82c63d1",
   "metadata": {},
   "source": [
    "## **Eksplorasi Data Peluncuran Roket: Tingkat Keberhasilan, Kegagalan, Tren Tahunan, dan Biaya Peluncuran**\n",
    "\n",
    "\n",
    "**Pendahuluan:**\n",
    "\n",
    "Dalam era teknologi dan eksplorasi luar angkasa yang berkembang pesat, memahami dinamika peluncuran roket sangat penting. Dengan mendalami analisis data, kita dapat menggali informasi penting terkait efisiensi, biaya, dan tingkat aktivitas berbagai organisasi dalam industri peluncuran roket.\n",
    "\n",
    "Dalam analisis ini, kita akan menyelidiki empat aspek utama:\n",
    "\n",
    "1. **Tingkat Keberhasilan dan Kegagalan Peluncuran Roket:**  \n",
    "   - Proporsi misi yang berhasil dibandingkan dengan yang gagal dapat menggambarkan efisiensi industri. Tingkat keberhasilan yang lebih tinggi mungkin menunjukkan kemajuan teknologi, persiapan yang lebih baik, atau tim yang lebih berpengalaman. Sebaliknya, memahami alasan di balik kegagalan dapat menunjukkan area yang perlu ditingkatkan dan mitigasi risiko.\n",
    "     \n",
    "   \n",
    "2. **Organisasi Paling Aktif:**  \n",
    "   - Mengidentifikasi organisasi yang sering meluncurkan roket memberikan wawasan tentang organisasi yang dominan di pasar. Data ini dapat memberi petunjuk tentang organisasi mana yang memimpin dari sisi teknologi, pendanaan, atau kolaborasi global. Frekuensinya juga menetapkan standar untuk organisasi baru dalam hal tingkat aktivitas.\n",
    "\n",
    "3. **Tren Peluncuran Tahunan:**  \n",
    "   - Menganalisis tren tahunan memberikan gambaran tentang bagaimana industri peluncuran roket telah berkembang seiring waktu. Tren meningkat mungkin menunjukkan minat yang tumbuh dalam eksplorasi luar angkasa, pendanaan yang meningkat, atau kemajuan teknologi. Di sisi lain, tren menurun dapat menunjukkan jenuhnya pasar, berkurangnya minat, atau faktor eksternal seperti kemunduran ekonomi global yang mempengaruhi peluncuran.\n",
    "\n",
    "4. **Distribusi Biaya Peluncuran Roket:**  \n",
    "   - Memahami struktur biaya adalah kunci untuk menilai kelayakan keuangan dari investasi di industri peluncuran roket. Distribusi biaya yang luas mungkin menunjukkan adanya peluncuran dari anggaran rendah, mungkin untuk tujuan akademik atau penelitian, hingga peluncuran dengan anggaran tinggi, mungkin untuk misi yang kompleks atau usaha komersial.\n",
    "\n",
    "Melalui aspek-aspek ini, kita bertujuan untuk memberikan pemahaman mendalam tentang dinamika industri peluncuran roket saat ini. Wawasan semacam itu sangat berharga bagi investor, peneliti, pembuat kebijakan, dan pemangku kepentingan lainnya."
   ]
  },
  {
   "cell_type": "markdown",
   "id": "eda0b84d-de1e-4e45-832a-01eef7206a3a",
   "metadata": {},
   "source": [
    "### **1. Memuat Data**\n",
    "Pada bagian ini, kita menggunakan pustaka `pandas` untuk memuat dataset dari file CSV ke dalam sebuah DataFrame. Dataset berisi informasi tentang peluncuran roket. Setelah memuat, kita menampilkan lima baris pertama dari dataset untuk mendapatkan gambaran awal dari data yang dimiliki."
   ]
  },
  {
   "cell_type": "code",
   "execution_count": 30,
   "id": "543679ad-a3a5-4322-b099-3eb9f84ffc71",
   "metadata": {},
   "outputs": [
    {
     "data": {
      "text/html": [
       "<div>\n",
       "<style scoped>\n",
       "    .dataframe tbody tr th:only-of-type {\n",
       "        vertical-align: middle;\n",
       "    }\n",
       "\n",
       "    .dataframe tbody tr th {\n",
       "        vertical-align: top;\n",
       "    }\n",
       "\n",
       "    .dataframe thead th {\n",
       "        text-align: right;\n",
       "    }\n",
       "</style>\n",
       "<table border=\"1\" class=\"dataframe\">\n",
       "  <thead>\n",
       "    <tr style=\"text-align: right;\">\n",
       "      <th></th>\n",
       "      <th>Unnamed: 0.1</th>\n",
       "      <th>Unnamed: 0</th>\n",
       "      <th>Organisation</th>\n",
       "      <th>Location</th>\n",
       "      <th>Date</th>\n",
       "      <th>Detail</th>\n",
       "      <th>Rocket_Status</th>\n",
       "      <th>Price</th>\n",
       "      <th>Mission_Status</th>\n",
       "    </tr>\n",
       "  </thead>\n",
       "  <tbody>\n",
       "    <tr>\n",
       "      <th>0</th>\n",
       "      <td>0</td>\n",
       "      <td>0</td>\n",
       "      <td>SpaceX</td>\n",
       "      <td>LC-39A, Kennedy Space Center, Florida, USA</td>\n",
       "      <td>Fri Aug 07, 2020 05:12 UTC</td>\n",
       "      <td>Falcon 9 Block 5 | Starlink V1 L9 &amp; BlackSky</td>\n",
       "      <td>StatusActive</td>\n",
       "      <td>50.0</td>\n",
       "      <td>Success</td>\n",
       "    </tr>\n",
       "    <tr>\n",
       "      <th>1</th>\n",
       "      <td>1</td>\n",
       "      <td>1</td>\n",
       "      <td>CASC</td>\n",
       "      <td>Site 9401 (SLS-2), Jiuquan Satellite Launch Ce...</td>\n",
       "      <td>Thu Aug 06, 2020 04:01 UTC</td>\n",
       "      <td>Long March 2D | Gaofen-9 04 &amp; Q-SAT</td>\n",
       "      <td>StatusActive</td>\n",
       "      <td>29.75</td>\n",
       "      <td>Success</td>\n",
       "    </tr>\n",
       "    <tr>\n",
       "      <th>2</th>\n",
       "      <td>2</td>\n",
       "      <td>2</td>\n",
       "      <td>SpaceX</td>\n",
       "      <td>Pad A, Boca Chica, Texas, USA</td>\n",
       "      <td>Tue Aug 04, 2020 23:57 UTC</td>\n",
       "      <td>Starship Prototype | 150 Meter Hop</td>\n",
       "      <td>StatusActive</td>\n",
       "      <td>NaN</td>\n",
       "      <td>Success</td>\n",
       "    </tr>\n",
       "    <tr>\n",
       "      <th>3</th>\n",
       "      <td>3</td>\n",
       "      <td>3</td>\n",
       "      <td>Roscosmos</td>\n",
       "      <td>Site 200/39, Baikonur Cosmodrome, Kazakhstan</td>\n",
       "      <td>Thu Jul 30, 2020 21:25 UTC</td>\n",
       "      <td>Proton-M/Briz-M | Ekspress-80 &amp; Ekspress-103</td>\n",
       "      <td>StatusActive</td>\n",
       "      <td>65.0</td>\n",
       "      <td>Success</td>\n",
       "    </tr>\n",
       "    <tr>\n",
       "      <th>4</th>\n",
       "      <td>4</td>\n",
       "      <td>4</td>\n",
       "      <td>ULA</td>\n",
       "      <td>SLC-41, Cape Canaveral AFS, Florida, USA</td>\n",
       "      <td>Thu Jul 30, 2020 11:50 UTC</td>\n",
       "      <td>Atlas V 541 | Perseverance</td>\n",
       "      <td>StatusActive</td>\n",
       "      <td>145.0</td>\n",
       "      <td>Success</td>\n",
       "    </tr>\n",
       "  </tbody>\n",
       "</table>\n",
       "</div>"
      ],
      "text/plain": [
       "   Unnamed: 0.1  Unnamed: 0 Organisation  \\\n",
       "0             0           0       SpaceX   \n",
       "1             1           1         CASC   \n",
       "2             2           2       SpaceX   \n",
       "3             3           3    Roscosmos   \n",
       "4             4           4          ULA   \n",
       "\n",
       "                                            Location  \\\n",
       "0         LC-39A, Kennedy Space Center, Florida, USA   \n",
       "1  Site 9401 (SLS-2), Jiuquan Satellite Launch Ce...   \n",
       "2                      Pad A, Boca Chica, Texas, USA   \n",
       "3       Site 200/39, Baikonur Cosmodrome, Kazakhstan   \n",
       "4           SLC-41, Cape Canaveral AFS, Florida, USA   \n",
       "\n",
       "                         Date                                        Detail  \\\n",
       "0  Fri Aug 07, 2020 05:12 UTC  Falcon 9 Block 5 | Starlink V1 L9 & BlackSky   \n",
       "1  Thu Aug 06, 2020 04:01 UTC           Long March 2D | Gaofen-9 04 & Q-SAT   \n",
       "2  Tue Aug 04, 2020 23:57 UTC            Starship Prototype | 150 Meter Hop   \n",
       "3  Thu Jul 30, 2020 21:25 UTC  Proton-M/Briz-M | Ekspress-80 & Ekspress-103   \n",
       "4  Thu Jul 30, 2020 11:50 UTC                    Atlas V 541 | Perseverance   \n",
       "\n",
       "  Rocket_Status  Price Mission_Status  \n",
       "0  StatusActive   50.0        Success  \n",
       "1  StatusActive  29.75        Success  \n",
       "2  StatusActive    NaN        Success  \n",
       "3  StatusActive   65.0        Success  \n",
       "4  StatusActive  145.0        Success  "
      ]
     },
     "execution_count": 30,
     "metadata": {},
     "output_type": "execute_result"
    }
   ],
   "source": [
    "import pandas as pd\n",
    "\n",
    "# Memuat data dari CSV ke DataFrame\n",
    "data = pd.read_csv('C:/Users/User/Documents/Portofolio/Space+Missions+(start)/mission_launches.csv')\n",
    "\n",
    "# Menampilkan 5 baris pertama dari data\n",
    "data.head()\n"
   ]
  },
  {
   "cell_type": "markdown",
   "id": "3521c1da-1711-4b89-8a10-775ae25ab122",
   "metadata": {},
   "source": [
    "### **2. Pra-pemrosesan Data**\n",
    "Di bagian ini, kita melakukan beberapa langkah untuk membersihkan data\n",
    "- Menghapus kolom yang tidak diperlukan, yaitu kolom `unnamed: 0` dan `unnamed: 0.1`.\n",
    "- Mengubah format kolom `Date` menjadi tipe data `datetime` agar lebih mudah diproses di langkah selanjutnya.\n",
    "- Menampilkan lima baris pertama dari data yang telah dibersihkan untuk memastikan perubahan telah diterapkan dengan benar."
   ]
  },
  {
   "cell_type": "code",
   "execution_count": 27,
   "id": "e544f125-6530-4a9a-b054-9082ee0e21b0",
   "metadata": {},
   "outputs": [
    {
     "data": {
      "text/html": [
       "<div>\n",
       "<style scoped>\n",
       "    .dataframe tbody tr th:only-of-type {\n",
       "        vertical-align: middle;\n",
       "    }\n",
       "\n",
       "    .dataframe tbody tr th {\n",
       "        vertical-align: top;\n",
       "    }\n",
       "\n",
       "    .dataframe thead th {\n",
       "        text-align: right;\n",
       "    }\n",
       "</style>\n",
       "<table border=\"1\" class=\"dataframe\">\n",
       "  <thead>\n",
       "    <tr style=\"text-align: right;\">\n",
       "      <th></th>\n",
       "      <th>Organisation</th>\n",
       "      <th>Location</th>\n",
       "      <th>Date</th>\n",
       "      <th>Detail</th>\n",
       "      <th>Rocket_Status</th>\n",
       "      <th>Price</th>\n",
       "      <th>Mission_Status</th>\n",
       "    </tr>\n",
       "  </thead>\n",
       "  <tbody>\n",
       "    <tr>\n",
       "      <th>0</th>\n",
       "      <td>SpaceX</td>\n",
       "      <td>LC-39A, Kennedy Space Center, Florida, USA</td>\n",
       "      <td>2020-08-07 05:12:00+00:00</td>\n",
       "      <td>Falcon 9 Block 5 | Starlink V1 L9 &amp; BlackSky</td>\n",
       "      <td>StatusActive</td>\n",
       "      <td>50.0</td>\n",
       "      <td>Success</td>\n",
       "    </tr>\n",
       "    <tr>\n",
       "      <th>1</th>\n",
       "      <td>CASC</td>\n",
       "      <td>Site 9401 (SLS-2), Jiuquan Satellite Launch Ce...</td>\n",
       "      <td>2020-08-06 04:01:00+00:00</td>\n",
       "      <td>Long March 2D | Gaofen-9 04 &amp; Q-SAT</td>\n",
       "      <td>StatusActive</td>\n",
       "      <td>29.75</td>\n",
       "      <td>Success</td>\n",
       "    </tr>\n",
       "    <tr>\n",
       "      <th>2</th>\n",
       "      <td>SpaceX</td>\n",
       "      <td>Pad A, Boca Chica, Texas, USA</td>\n",
       "      <td>2020-08-04 23:57:00+00:00</td>\n",
       "      <td>Starship Prototype | 150 Meter Hop</td>\n",
       "      <td>StatusActive</td>\n",
       "      <td>NaN</td>\n",
       "      <td>Success</td>\n",
       "    </tr>\n",
       "    <tr>\n",
       "      <th>3</th>\n",
       "      <td>Roscosmos</td>\n",
       "      <td>Site 200/39, Baikonur Cosmodrome, Kazakhstan</td>\n",
       "      <td>2020-07-30 21:25:00+00:00</td>\n",
       "      <td>Proton-M/Briz-M | Ekspress-80 &amp; Ekspress-103</td>\n",
       "      <td>StatusActive</td>\n",
       "      <td>65.0</td>\n",
       "      <td>Success</td>\n",
       "    </tr>\n",
       "    <tr>\n",
       "      <th>4</th>\n",
       "      <td>ULA</td>\n",
       "      <td>SLC-41, Cape Canaveral AFS, Florida, USA</td>\n",
       "      <td>2020-07-30 11:50:00+00:00</td>\n",
       "      <td>Atlas V 541 | Perseverance</td>\n",
       "      <td>StatusActive</td>\n",
       "      <td>145.0</td>\n",
       "      <td>Success</td>\n",
       "    </tr>\n",
       "  </tbody>\n",
       "</table>\n",
       "</div>"
      ],
      "text/plain": [
       "  Organisation                                           Location  \\\n",
       "0       SpaceX         LC-39A, Kennedy Space Center, Florida, USA   \n",
       "1         CASC  Site 9401 (SLS-2), Jiuquan Satellite Launch Ce...   \n",
       "2       SpaceX                      Pad A, Boca Chica, Texas, USA   \n",
       "3    Roscosmos       Site 200/39, Baikonur Cosmodrome, Kazakhstan   \n",
       "4          ULA           SLC-41, Cape Canaveral AFS, Florida, USA   \n",
       "\n",
       "                        Date                                        Detail  \\\n",
       "0  2020-08-07 05:12:00+00:00  Falcon 9 Block 5 | Starlink V1 L9 & BlackSky   \n",
       "1  2020-08-06 04:01:00+00:00           Long March 2D | Gaofen-9 04 & Q-SAT   \n",
       "2  2020-08-04 23:57:00+00:00            Starship Prototype | 150 Meter Hop   \n",
       "3  2020-07-30 21:25:00+00:00  Proton-M/Briz-M | Ekspress-80 & Ekspress-103   \n",
       "4  2020-07-30 11:50:00+00:00                    Atlas V 541 | Perseverance   \n",
       "\n",
       "  Rocket_Status  Price Mission_Status  \n",
       "0  StatusActive   50.0        Success  \n",
       "1  StatusActive  29.75        Success  \n",
       "2  StatusActive    NaN        Success  \n",
       "3  StatusActive   65.0        Success  \n",
       "4  StatusActive  145.0        Success  "
      ]
     },
     "execution_count": 27,
     "metadata": {},
     "output_type": "execute_result"
    }
   ],
   "source": [
    "# Menghapus kolom yang tidak diperlukan\n",
    "data.drop(['Unnamed: 0', 'Unnamed: 0.1'], axis=1, inplace=True)\n",
    "\n",
    "# Mengubah kolom Date menjadi tipe data datetime\n",
    "data['Date'] = pd.to_datetime(data['Date'])\n",
    "\n",
    "# Menampilkan 5 baris pertama dari data yang telah dibersihkan\n",
    "data.head()\n"
   ]
  },
  {
   "cell_type": "markdown",
   "id": "98525d37-7d20-4b61-8982-4e7b6876d5b8",
   "metadata": {},
   "source": [
    "### **3. Analisis Status Peluncuran Roket**\n",
    "\n",
    "Pada bagian ini, kita menganalisis distribusi peluncuran roket berdasarkan status misinya. Menggunakan fungsi `value_counts()`, kita menghitung jumlah peluncuran untuk setiap status misi yang ada di dataset. Hasilnya akan menunjukkan berapa banyak misi yang berhasil, gagal, atau memiliki status lain."
   ]
  },
  {
   "cell_type": "code",
   "execution_count": 3,
   "id": "109edb1e-1778-4e22-9c5a-3982207fe564",
   "metadata": {},
   "outputs": [
    {
     "data": {
      "text/plain": [
       "Success              3879\n",
       "Failure               339\n",
       "Partial Failure       102\n",
       "Prelaunch Failure       4\n",
       "Name: Mission_Status, dtype: int64"
      ]
     },
     "execution_count": 3,
     "metadata": {},
     "output_type": "execute_result"
    }
   ],
   "source": [
    "# Menghitung jumlah peluncuran berdasarkan status misinya\n",
    "mission_status_counts = data['Mission_Status'].value_counts()\n",
    "\n",
    "mission_status_counts"
   ]
  },
  {
   "cell_type": "markdown",
   "id": "49a6cc9d-5db1-4da9-a258-1f644634af72",
   "metadata": {},
   "source": [
    "#### **Visualisasi Status Peluncuran**\n",
    "\n",
    "Di bagian ini, kita memvisualisasikan data yang telah dianalisis pada langkah sebelumnya. Dengan menggunakan pustaka `matplotlib`, kita membuat barchart untuk menampilkan jumlah peluncuran berdasarkan status misinya."
   ]
  },
  {
   "cell_type": "code",
   "execution_count": 18,
   "id": "ef6851c0-e56c-4b3e-8c3f-4f5982ca044d",
   "metadata": {},
   "outputs": [
    {
     "data": {
      "image/png": "[encoded data removed]",
      "text/plain": [
       "<Figure size 432x288 with 1 Axes>"
      ]
     },
     "metadata": {
      "needs_background": "light"
     },
     "output_type": "display_data"
    }
   ],
   "source": [
    "import matplotlib.pyplot as plt\n",
    "\n",
    "# Menambahkan ruang di antara plot dan judul\n",
    "ax = mission_status_counts.plot(kind='bar', color='skyblue', edgecolor='black')\n",
    "ax.spines['top'].set_visible(False)\n",
    "ax.spines['right'].set_visible(False)\n",
    "\n",
    "plt.title(\"Jumlah Peluncuran Roket Berdasarkan Status Misi\", y=1.08)  # Menyesuaikan posisi judul\n",
    "plt.xlabel(\"Status Misi\")\n",
    "plt.ylabel(\"Jumlah Peluncuran\")\n",
    "plt.xticks(rotation=45)\n",
    "\n",
    "# Menambahkan nilai asli di atas setiap batang\n",
    "for p in ax.patches:\n",
    "    ax.annotate(str(p.get_height()), (p.get_x() + p.get_width() / 2., p.get_height()),\n",
    "                ha='center', va='center', xytext=(0, 10), textcoords='offset points')\n",
    "\n",
    "plt.tight_layout()\n",
    "plt.show()\n"
   ]
  },
  {
   "cell_type": "markdown",
   "id": "6721b857-7a61-4fd5-ab8f-9a7b02d313f2",
   "metadata": {},
   "source": [
    "Barchart di atas menunjukkan jumlah peluncuran roket berdasarkan status misinya. Berikut interpretasi dari barchart di atas:\n",
    "\n",
    "1. **Sukses (Success):** Dengan 3879 peluncuran, ini adalah status yang paling banyak ditemui. Ini menunjukkan bahwa sebagian besar misi peluncuran roket berhasil mencapai tujuannya tanpa adanya masalah. \n",
    "\n",
    "2. **Gagal (Failure):** Terdapat 339 misi yang gagal. Meskipun jumlahnya jauh lebih sedikit dibandingkan dengan misi yang sukses, tetap saja ini menunjukkan adanya risiko dalam peluncuran roket.\n",
    "\n",
    "3. **Gagal Sebagian (Partial Failure):** Ada 102 misi yang mengalami kegagalan sebagian. Ini berarti misi tersebut mungkin telah mencapai sebagian dari tujuannya, tetapi tidak sepenuhnya sesuai dengan yang diharapkan.\n",
    "\n",
    "4. **Gagal Sebelum Peluncuran (Prelaunch Failure):** Hanya ada 4 misi yang gagal sebelum peluncuran. Ini menunjukkan bahwa insiden semacam ini sangat jarang terjadi, tetapi tetap saja penting untuk diwaspadai.\n",
    "\n",
    "Kesimpulannya, meskipun sebagian besar misi peluncuran roket berhasil, tetap ada sejumlah misi yang mengalami kegagalan, baik itu kegagalan total, kegagalan sebagian, atau bahkan kegagalan sebelum peluncuran. Hal ini mengingatkan kita tentang kompleksitas dan tantangan yang ada dalam industri penerbangan luar angkasa."
   ]
  },
  {
   "cell_type": "markdown",
   "id": "2a395653-083c-4efc-813f-40c77af5a2c1",
   "metadata": {},
   "source": [
    "### **4. Analisis Jumlah Peluncuran Roket Berdasarkan Organisasi**\n",
    "\n",
    "Dalam analisis ini, kita menyelidiki organisasi-organisasi mana saja yang paling aktif dalam meluncurkan roket. Menggunakan fungsi `value_counts()`, kita menghitung jumlah peluncuran untuk setiap organisasi yang terdaftar dalam dataset. Hasilnya menunjukkan organisasi-organisasi dengan aktivitas peluncuran roket terbanyak."
   ]
  },
  {
   "cell_type": "code",
   "execution_count": 6,
   "id": "fbde5a74-58b3-4ad8-98df-20280a9449fc",
   "metadata": {},
   "outputs": [
    {
     "data": {
      "text/plain": [
       "RVSN USSR           1777\n",
       "Arianespace          279\n",
       "CASC                 251\n",
       "General Dynamics     251\n",
       "NASA                 203\n",
       "VKS RF               201\n",
       "US Air Force         161\n",
       "ULA                  140\n",
       "Boeing               136\n",
       "Martin Marietta      114\n",
       "Name: Organisation, dtype: int64"
      ]
     },
     "execution_count": 6,
     "metadata": {},
     "output_type": "execute_result"
    }
   ],
   "source": [
    "# Menghitung jumlah peluncuran roket berdasarkan organisasinya\n",
    "organisation_counts = data['Organisation'].value_counts()\n",
    "\n",
    "# Menampilkan 10 organisasi dengan jumlah peluncuran terbanyak\n",
    "top_organisations = organisation_counts.head(10)\n",
    "\n",
    "top_organisations\n"
   ]
  },
  {
   "cell_type": "markdown",
   "id": "e74cdc7d-46ec-4282-889d-6e23a5554d74",
   "metadata": {},
   "source": [
    "#### **Visualisasi Jumlah Peluncuran Berdasarkan Organisasi**\n",
    "\n",
    "Dalam visualisasi ini, kita memanfaatkan pustaka matplotlib untuk membuat grafik batang yang menampilkan 10 organisasi dengan jumlah peluncuran roket terbanyak. Grafik ini memberikan gambaran visual mengenai dominasi beberapa organisasi dalam industri peluncuran roket."
   ]
  },
  {
   "cell_type": "code",
   "execution_count": 21,
   "id": "ff45ade0-82cb-4b2f-bbbb-b759ea45e53f",
   "metadata": {},
   "outputs": [
    {
     "data": {
      "image/png": "[encoded data removed]",
      "text/plain": [
       "<Figure size 432x288 with 1 Axes>"
      ]
     },
     "metadata": {
      "needs_background": "light"
     },
     "output_type": "display_data"
    }
   ],
   "source": [
    "# Membuat bar chart untuk 10 organisasi dengan jumlah peluncuran terbanyak\n",
    "ax2 = top_organisations.plot(kind='bar', color='lightgreen', edgecolor='black')\n",
    "ax2.spines['top'].set_visible(False)  # Menghilangkan garis atas\n",
    "ax2.spines['right'].set_visible(False)  # Menghilangkan garis kanan\n",
    "\n",
    "plt.title(\"10 Organisasi dengan Jumlah Peluncuran Terbanyak\", y=1.08)  # Menambahkan ruang di antara plot dan judul\n",
    "plt.xlabel(\"Organisasi\")\n",
    "plt.ylabel(\"Jumlah Peluncuran\")\n",
    "plt.xticks(rotation=45, ha='right')\n",
    "\n",
    "# Menambahkan nilai asli di atas setiap batang\n",
    "for p in ax2.patches:\n",
    "    ax2.annotate(str(p.get_height()), (p.get_x() + p.get_width() / 2., p.get_height()),\n",
    "                ha='center', va='center', xytext=(0, 10), textcoords='offset points')\n",
    "\n",
    "plt.tight_layout()\n",
    "plt.show()\n"
   ]
  },
  {
   "cell_type": "markdown",
   "id": "12963cf2-d83b-44d3-95db-bd56d3bdb771",
   "metadata": {},
   "source": [
    "**Interpretasi Grafik:**\n",
    "- **RVSN USSR** merupakan organisasi dengan jumlah peluncuran roket terbanyak, dengan lebih dari 1700 peluncuran. Ini menunjukkan dominasi organisasi ini dalam industri peluncuran roket, mungkin karena peranannya yang penting selama periode tertentu dalam sejarah.\n",
    "- **Arianespace** berada di urutan kedua, dengan lebih dari 250 peluncuran. Meskipun jauh di bawah RVSN USSR dalam hal jumlah, organisasi ini tetap menjadi organisasi penting dalam industri ini.\n",
    "- **CASC** dan **General Dynamics** menempati urutan ketiga dab keempat dengan 251 peluncuran. Ini menunjukkan pertumbuhan dan kehadiran kuat dari organisasi ini dalam dunia peluncuran roket.\n",
    "- Organisasi lain seperti **VKS RF** dan **NASA** juga menunjukkan aktivitas yang signifikan dalam industri ini, dengan lebih dari 200 peluncuran masing-masing.\n",
    "- Ada perbedaan yang signifikan antara jumlah peluncuran roket **RVSN USSR** dengan organisasi lainnya, menunjukkan dominasi yang kuat dari **RVSN USSR** selama periode operasionalnya.\n",
    "\n",
    "Dari grafik ini, kita dapat mengambil kesimpulan bahwa beberapa organisasi memiliki peran dominan dalam sejarah peluncuran roket, baik karena sejarah, teknologi, atau kebijakan tertentu yang mereka miliki."
   ]
  },
  {
   "cell_type": "markdown",
   "id": "d1709943-f9f0-47bb-911c-1f8384316352",
   "metadata": {},
   "source": [
    "### **5. Analisis Time-Series Jumlah Peluncuran Roket Setiap Tahun**\n",
    "\n",
    "Dalam analisis ini, kita ingin mengetahui bagaimana tren peluncuran roket berubah sepanjang waktu, khususnya setiap tahun. Dengan mengelompokkan data berdasarkan tahun dari tanggal peluncuran, kita dapat menghitung berapa kali roket diluncurkan setiap tahunnya. kita menggunakan time series untuk menampilkan tren jumlah peluncuran roket setiap tahun. Time series memberikan gambaran yang jelas tentang bagaimana tren tersebut berubah dari tahun ke tahun."
   ]
  },
  {
   "cell_type": "code",
   "execution_count": 23,
   "id": "3d280e6f-bebc-407a-8b18-6f8f670c43b6",
   "metadata": {},
   "outputs": [
    {
     "data": {
      "image/png": "[encoded data removed]",
      "text/plain": [
       "<Figure size 432x288 with 1 Axes>"
      ]
     },
     "metadata": {
      "needs_background": "light"
     },
     "output_type": "display_data"
    }
   ],
   "source": [
    "# Menghilangkan informasi zona waktu dengan cara lain\n",
    "data['Date'] = data['Date'].apply(lambda x: x.replace(tzinfo=None))\n",
    "\n",
    "# Menghitung jumlah peluncuran roket setiap tahun\n",
    "yearly_launches = data.groupby(data['Date'].dt.year)['Date'].count()\n",
    "\n",
    "# Membuat line chart untuk tren jumlah peluncuran roket setiap tahun\n",
    "yearly_launches.plot(kind='line', color='purple', marker='o', linewidth=2)\n",
    "plt.title(\"Tren Jumlah Peluncuran Roket Setiap Tahun\")\n",
    "plt.xlabel(\"Tahun\")\n",
    "plt.ylabel(\"Jumlah Peluncuran\")\n",
    "plt.grid(True, which='both', linestyle='--', linewidth=0.5)\n",
    "plt.tight_layout()\n",
    "plt.show()\n"
   ]
  },
  {
   "cell_type": "markdown",
   "id": "3f44810c-a67a-4461-8e9c-868868a8ca52",
   "metadata": {},
   "source": [
    "#### **Interpretasi Grafik**\n",
    "- Secara keseluruhan, tampaknya ada peningkatan signifikan dalam jumlah peluncuran roket dari tahun 1960-an hingga sekitar pertengahan 1970-an, mencapai puncaknya pada pertengahan hingga akhir 1970-an.\n",
    "- Setelah mencapai puncak di akhir 1970-an, ada penurunan dalam jumlah peluncuran roket yang berlanjut hingga sekitar awal 2000-an.\n",
    "- Mulai dari pertengahan 2000-an, tampaknya ada kecenderungan stabil dalam jumlah peluncuran roket setiap tahun dengan beberapa fluktuasi.\n",
    "- Terakhir, dalam beberapa tahun terakhir yang ada dalam dataset, tampaknya ada peningkatan kembali dalam jumlah peluncuran roket. Akan tetapi, pada tahun-tahun dimana pandemi Covid-19 muncul, terjadi penurunan yang signifikan setelah adanya peningkatan di tahun 2015-2018.\n",
    "\n",
    "Dari grafik ini, kita dapat mengambil kesimpulan bahwa ada periode-periode tertentu dalam sejarah peluncuran roket di mana aktivitas tersebut menjadi sangat intensif, diikuti oleh periode penurunan aktivitas. Faktor-faktor seperti perkembangan teknologi, kebijakan pemerintah, dinamika geopolitik, dan dampak dari pandemi yang terjadi mungkin berperan dalam mempengaruhi tren-tren ini."
   ]
  },
  {
   "cell_type": "markdown",
   "id": "0331d844-b215-4f01-ac99-1c9ee592c801",
   "metadata": {},
   "source": [
    "### **6. Analisis Distribusi Harga Peluncuran Roket**"
   ]
  },
  {
   "cell_type": "code",
   "execution_count": 24,
   "id": "8fa20fa8-f64f-4d0c-8f5f-ca9b3e111e46",
   "metadata": {},
   "outputs": [
    {
     "data": {
      "text/plain": [
       "count       964\n",
       "unique       56\n",
       "top       450.0\n",
       "freq        136\n",
       "Name: Price, dtype: object"
      ]
     },
     "execution_count": 24,
     "metadata": {},
     "output_type": "execute_result"
    }
   ],
   "source": [
    "# Analisis statistik deskriptif untuk kolom harga\n",
    "price_description = data['Price'].describe()\n",
    "\n",
    "price_description\n"
   ]
  },
  {
   "cell_type": "code",
   "execution_count": 25,
   "id": "ee8282fb-421e-43d3-b3a1-23131302b956",
   "metadata": {},
   "outputs": [
    {
     "data": {
      "image/png": "[encoded data removed]",
      "text/plain": [
       "<Figure size 720x432 with 1 Axes>"
      ]
     },
     "metadata": {
      "needs_background": "light"
     },
     "output_type": "display_data"
    }
   ],
   "source": [
    "# Mengonversi kolom 'Price' menjadi tipe data numerik\n",
    "data['Price'] = pd.to_numeric(data['Price'], errors='coerce')\n",
    "\n",
    "# Membuat histogram untuk distribusi harga\n",
    "plt.figure(figsize=(10, 6))\n",
    "plt.hist(data['Price'].dropna(), bins=50, color='lightblue', edgecolor='black')\n",
    "plt.title(\"Distribusi Harga Peluncuran Roket\")\n",
    "plt.xlabel(\"Harga\")\n",
    "plt.ylabel(\"Frekuensi\")\n",
    "plt.grid(True, which='both', linestyle='--', linewidth=0.5)\n",
    "plt.tight_layout()\n",
    "plt.show()\n"
   ]
  },
  {
   "cell_type": "markdown",
   "id": "aba646c1-7fab-40f4-b5ea-872a42a82663",
   "metadata": {},
   "source": [
    "Dari histogram yang ditampilkan, kita dapat membuat interpretasi:\n",
    "- **Konsentrasi Harga**: Sebagian besar peluncuran roket memiliki harga di kisaran rendah hingga menengah, dengan beberapa puncak yang jelas di beberapa titik harga tertentu.\n",
    "- **Harga Tertinggi**: Ada beberapa peluncuran dengan harga yang sangat tinggi, namun frekuensinya rendah jika dibandingkan dengan harga peluncuran menengah ke bawah. Ini menunjukkan bahwa peluncuran dengan biaya tinggi mungkin merupakan misi khusus atau menggunakan teknologi yang lebih mahal.\n",
    "- **Sebaran**: Sebaran harga tampaknya tidak simetris, dengan kemiringan ke kanan. Ini menunjukkan bahwa sebagian besar peluncuran cenderung memiliki harga yang lebih rendah dengan beberapa pengecualian yang memiliki harga lebih tinggi.\n",
    "- **Modus**: Frekuensi tinggi di sekitar harga 450.0.\n",
    "\n",
    "Dengan demikian, kita dapat menyimpulkan bahwa meskipun ada beberapa peluncuran roket dengan biaya yang sangat tinggi, sebagian besar peluncuran roket memiliki biaya yang relatif lebih rendah hingga menengah."
   ]
  }
 ],
 "metadata": {
  "kernelspec": {
   "display_name": "Python 3 (ipykernel)",
   "language": "python",
   "name": "python3"
  },
  "language_info": {
   "codemirror_mode": {
    "name": "ipython",
    "version": 3
   },
   "file_extension": ".py",
   "mimetype": "text/x-python",
   "name": "python",
   "nbconvert_exporter": "python",
   "pygments_lexer": "ipython3",
   "version": "3.9.13"
  }
 },
 "nbformat": 4,
 "nbformat_minor": 5
}
